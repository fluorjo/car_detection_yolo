{
 "cells": [
  {
   "attachments": {},
   "cell_type": "markdown",
   "metadata": {},
   "source": [
    "https://learnopencv.com/ultralytics-yolov8/"
   ]
  },
  {
   "cell_type": "code",
   "execution_count": 1,
   "metadata": {},
   "outputs": [
    {
     "name": "stderr",
     "output_type": "stream",
     "text": [
      "Cloning into 'ultralytics'...\n"
     ]
    }
   ],
   "source": [
    "!git clone https://github.com/ultralytics/ultralytics.git"
   ]
  },
  {
   "cell_type": "code",
   "execution_count": 7,
   "metadata": {},
   "outputs": [
    {
     "name": "stdout",
     "output_type": "stream",
     "text": [
      "c:\\Users\\fluor\\c\\car_detection_yolo\\ultralytics\n"
     ]
    }
   ],
   "source": [
    "%cd ultralytics"
   ]
  },
  {
   "cell_type": "code",
   "execution_count": 8,
   "metadata": {},
   "outputs": [
    {
     "name": "stdout",
     "output_type": "stream",
     "text": [
      " C ����̺��� ����: Windows\n",
      " ���� �Ϸ� ��ȣ: 28FA-0A6C\n",
      "\n",
      " c:\\Users\\fluor\\c\\car_detection_yolo\\ultralytics ���͸�\n",
      "\n",
      "2023-05-23  ���� 03:38    <DIR>          .\n",
      "2023-05-23  ���� 03:38    <DIR>          ..\n",
      "2023-05-23  ���� 03:38    <DIR>          .github\n",
      "2023-05-23  ���� 03:38             2,310 .gitignore\n",
      "2023-05-23  ���� 03:38             1,887 .pre-commit-config.yaml\n",
      "2023-05-23  ���� 03:38               632 CITATION.cff\n",
      "2023-05-23  ���� 03:38             5,739 CONTRIBUTING.md\n",
      "2023-05-23  ���� 03:38    <DIR>          docker\n",
      "2023-05-23  ���� 03:38    <DIR>          docs\n",
      "2023-05-23  ���� 03:38    <DIR>          examples\n",
      "2023-05-23  ���� 03:38            35,184 LICENSE\n",
      "2023-05-23  ���� 03:38               221 MANIFEST.in\n",
      "2023-05-23  ���� 03:38            22,011 mkdocs.yml\n",
      "2023-05-23  ���� 03:38            24,497 README.md\n",
      "2023-05-23  ���� 03:38            23,485 README.zh-CN.md\n",
      "2023-05-23  ���� 03:38             1,110 requirements.txt\n",
      "2023-05-23  ���� 03:38             1,779 setup.cfg\n",
      "2023-05-23  ���� 03:38             3,274 setup.py\n",
      "2023-05-23  ���� 03:38    <DIR>          tests\n",
      "2023-05-23  ���� 03:38    <DIR>          ultralytics\n",
      "              12�� ����             122,129 ����Ʈ\n",
      "               8�� ���͸�  35,469,164,544 ����Ʈ ����\n"
     ]
    }
   ],
   "source": [
    "%ls"
   ]
  },
  {
   "cell_type": "code",
   "execution_count": 9,
   "metadata": {},
   "outputs": [
    {
     "name": "stdout",
     "output_type": "stream",
     "text": [
      "Collecting matplotlib>=3.2.2\n",
      "  Downloading matplotlib-3.7.1-cp311-cp311-win_amd64.whl (7.6 MB)\n",
      "     ---------------------------------------- 7.6/7.6 MB 9.6 MB/s eta 0:00:00\n",
      "Collecting opencv-python>=4.6.0\n",
      "  Downloading opencv_python-4.7.0.72-cp37-abi3-win_amd64.whl (38.2 MB)\n",
      "     ---------------------------------------- 38.2/38.2 MB 9.1 MB/s eta 0:00:00\n",
      "Collecting Pillow>=7.1.2\n",
      "  Downloading Pillow-9.5.0-cp311-cp311-win_amd64.whl (2.5 MB)\n",
      "     ---------------------------------------- 2.5/2.5 MB 10.0 MB/s eta 0:00:00\n",
      "Collecting PyYAML>=5.3.1\n",
      "  Downloading PyYAML-6.0-cp311-cp311-win_amd64.whl (143 kB)\n",
      "     -------------------------------------- 143.2/143.2 kB 8.3 MB/s eta 0:00:00\n",
      "Collecting requests>=2.23.0\n",
      "  Downloading requests-2.31.0-py3-none-any.whl (62 kB)\n",
      "     ---------------------------------------- 62.6/62.6 kB ? eta 0:00:00\n",
      "Collecting scipy>=1.4.1\n",
      "  Downloading scipy-1.10.1-cp311-cp311-win_amd64.whl (42.2 MB)\n",
      "     ---------------------------------------- 42.2/42.2 MB 9.3 MB/s eta 0:00:00\n",
      "Collecting torch>=1.7.0\n",
      "  Downloading torch-2.0.1-cp311-cp311-win_amd64.whl (172.3 MB)\n",
      "     -------------------------------------- 172.3/172.3 MB 7.9 MB/s eta 0:00:00\n",
      "Collecting torchvision>=0.8.1\n",
      "  Downloading torchvision-0.15.2-cp311-cp311-win_amd64.whl (1.2 MB)\n",
      "     ---------------------------------------- 1.2/1.2 MB 9.5 MB/s eta 0:00:00\n",
      "Collecting tqdm>=4.64.0\n",
      "  Downloading tqdm-4.65.0-py3-none-any.whl (77 kB)\n",
      "     ---------------------------------------- 77.1/77.1 kB 4.5 MB/s eta 0:00:00\n",
      "Collecting pandas>=1.1.4\n",
      "  Downloading pandas-2.0.1-cp311-cp311-win_amd64.whl (10.6 MB)\n",
      "     ---------------------------------------- 10.6/10.6 MB 9.0 MB/s eta 0:00:00\n",
      "Collecting seaborn>=0.11.0\n",
      "  Downloading seaborn-0.12.2-py3-none-any.whl (293 kB)\n",
      "     -------------------------------------- 293.3/293.3 kB 8.8 MB/s eta 0:00:00\n",
      "Requirement already satisfied: psutil in c:\\users\\fluor\\appdata\\roaming\\python\\python311\\site-packages (from -r requirements.txt (line 37)) (5.9.4)\n",
      "Collecting contourpy>=1.0.1\n",
      "  Downloading contourpy-1.0.7-cp311-cp311-win_amd64.whl (162 kB)\n",
      "     -------------------------------------- 163.0/163.0 kB 9.5 MB/s eta 0:00:00\n",
      "Collecting cycler>=0.10\n",
      "  Downloading cycler-0.11.0-py3-none-any.whl (6.4 kB)\n",
      "Collecting fonttools>=4.22.0\n",
      "  Downloading fonttools-4.39.4-cp311-cp311-win_amd64.whl (1.9 MB)\n",
      "     ---------------------------------------- 1.9/1.9 MB 9.5 MB/s eta 0:00:00\n",
      "Collecting kiwisolver>=1.0.1\n",
      "  Downloading kiwisolver-1.4.4-cp311-cp311-win_amd64.whl (55 kB)\n",
      "     ---------------------------------------- 55.4/55.4 kB ? eta 0:00:00\n",
      "Collecting numpy>=1.20\n",
      "  Downloading numpy-1.24.3-cp311-cp311-win_amd64.whl (14.8 MB)\n",
      "     ---------------------------------------- 14.8/14.8 MB 9.6 MB/s eta 0:00:00\n",
      "Requirement already satisfied: packaging>=20.0 in c:\\users\\fluor\\appdata\\roaming\\python\\python311\\site-packages (from matplotlib>=3.2.2->-r requirements.txt (line 5)) (23.0)\n",
      "Collecting pyparsing>=2.3.1\n",
      "  Downloading pyparsing-3.0.9-py3-none-any.whl (98 kB)\n",
      "     ---------------------------------------- 98.3/98.3 kB 5.5 MB/s eta 0:00:00\n",
      "Requirement already satisfied: python-dateutil>=2.7 in c:\\users\\fluor\\appdata\\roaming\\python\\python311\\site-packages (from matplotlib>=3.2.2->-r requirements.txt (line 5)) (2.8.2)\n",
      "Collecting charset-normalizer<4,>=2\n",
      "  Downloading charset_normalizer-3.1.0-cp311-cp311-win_amd64.whl (96 kB)\n",
      "     ---------------------------------------- 96.7/96.7 kB 5.4 MB/s eta 0:00:00\n",
      "Collecting idna<4,>=2.5\n",
      "  Downloading idna-3.4-py3-none-any.whl (61 kB)\n",
      "     ---------------------------------------- 61.5/61.5 kB ? eta 0:00:00\n",
      "Collecting urllib3<3,>=1.21.1\n",
      "  Downloading urllib3-2.0.2-py3-none-any.whl (123 kB)\n",
      "     -------------------------------------- 123.2/123.2 kB 7.1 MB/s eta 0:00:00\n",
      "Collecting certifi>=2017.4.17\n",
      "  Downloading certifi-2023.5.7-py3-none-any.whl (156 kB)\n",
      "     -------------------------------------- 157.0/157.0 kB 4.7 MB/s eta 0:00:00\n",
      "Collecting filelock\n",
      "  Downloading filelock-3.12.0-py3-none-any.whl (10 kB)\n",
      "Collecting typing-extensions\n",
      "  Downloading typing_extensions-4.6.1-py3-none-any.whl (31 kB)\n",
      "Collecting sympy\n",
      "  Downloading sympy-1.12-py3-none-any.whl (5.7 MB)\n",
      "     ---------------------------------------- 5.7/5.7 MB 9.7 MB/s eta 0:00:00\n",
      "Collecting networkx\n",
      "  Downloading networkx-3.1-py3-none-any.whl (2.1 MB)\n",
      "     ---------------------------------------- 2.1/2.1 MB 10.2 MB/s eta 0:00:00\n",
      "Collecting jinja2\n",
      "  Downloading Jinja2-3.1.2-py3-none-any.whl (133 kB)\n",
      "     -------------------------------------- 133.1/133.1 kB 7.7 MB/s eta 0:00:00\n",
      "Requirement already satisfied: colorama in c:\\users\\fluor\\appdata\\roaming\\python\\python311\\site-packages (from tqdm>=4.64.0->-r requirements.txt (line 13)) (0.4.6)\n",
      "Collecting pytz>=2020.1\n",
      "  Downloading pytz-2023.3-py2.py3-none-any.whl (502 kB)\n",
      "     ------------------------------------- 502.3/502.3 kB 10.5 MB/s eta 0:00:00\n",
      "Collecting tzdata>=2022.1\n",
      "  Downloading tzdata-2023.3-py2.py3-none-any.whl (341 kB)\n",
      "     -------------------------------------- 341.8/341.8 kB 7.1 MB/s eta 0:00:00\n",
      "Requirement already satisfied: six>=1.5 in c:\\users\\fluor\\appdata\\roaming\\python\\python311\\site-packages (from python-dateutil>=2.7->matplotlib>=3.2.2->-r requirements.txt (line 5)) (1.16.0)\n",
      "Collecting MarkupSafe>=2.0\n",
      "  Downloading MarkupSafe-2.1.2-cp311-cp311-win_amd64.whl (16 kB)\n",
      "Collecting mpmath>=0.19\n",
      "  Downloading mpmath-1.3.0-py3-none-any.whl (536 kB)\n",
      "     ------------------------------------- 536.2/536.2 kB 11.4 MB/s eta 0:00:00\n",
      "Installing collected packages: pytz, mpmath, urllib3, tzdata, typing-extensions, tqdm, sympy, PyYAML, pyparsing, Pillow, numpy, networkx, MarkupSafe, kiwisolver, idna, fonttools, filelock, cycler, charset-normalizer, certifi, scipy, requests, pandas, opencv-python, jinja2, contourpy, torch, matplotlib, torchvision, seaborn\n",
      "Note: you may need to restart the kernel to use updated packages.\n"
     ]
    },
    {
     "name": "stderr",
     "output_type": "stream",
     "text": [
      "  WARNING: Failed to write executable - trying to use .deleteme logic\n",
      "ERROR: Could not install packages due to an OSError: [WinError 2] 지정된 파일을 찾을 수 없습니다: 'c:\\\\Python311\\\\Scripts\\\\tqdm.exe' -> 'c:\\\\Python311\\\\Scripts\\\\tqdm.exe.deleteme'\n",
      "\n",
      "\n",
      "[notice] A new release of pip available: 22.3 -> 23.1.2\n",
      "[notice] To update, run: python.exe -m pip install --upgrade pip\n"
     ]
    }
   ],
   "source": [
    "%pip install -r requirements.txt"
   ]
  },
  {
   "cell_type": "markdown",
   "metadata": {},
   "source": []
  }
 ],
 "metadata": {
  "kernelspec": {
   "display_name": "Python 3",
   "language": "python",
   "name": "python3"
  },
  "language_info": {
   "codemirror_mode": {
    "name": "ipython",
    "version": 3
   },
   "file_extension": ".py",
   "mimetype": "text/x-python",
   "name": "python",
   "nbconvert_exporter": "python",
   "pygments_lexer": "ipython3",
   "version": "3.11.0"
  },
  "orig_nbformat": 4
 },
 "nbformat": 4,
 "nbformat_minor": 2
}
