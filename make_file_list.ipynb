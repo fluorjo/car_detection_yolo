{
  "nbformat": 4,
  "nbformat_minor": 0,
  "metadata": {
    "colab": {
      "provenance": []
    },
    "kernelspec": {
      "name": "python3",
      "display_name": "Python 3"
    },
    "language_info": {
      "name": "python"
    }
  },
  "cells": [
    {
      "cell_type": "code",
      "execution_count": 39,
      "metadata": {
        "colab": {
          "base_uri": "https://localhost:8080/"
        },
        "id": "Q-RxhXChAGG2",
        "outputId": "a69ba0f9-de65-4068-e6ca-10997a8fc59d"
      },
      "outputs": [
        {
          "output_type": "stream",
          "name": "stdout",
          "text": [
            "Drive already mounted at /content/drive; to attempt to forcibly remount, call drive.mount(\"/content/drive\", force_remount=True).\n"
          ]
        }
      ],
      "source": [
        "from google.colab import drive\n",
        "drive.mount('/content/drive')"
      ]
    },
    {
      "cell_type": "code",
      "source": [
        "import os\n",
        "from tqdm import tqdm\n",
        "import time"
      ],
      "metadata": {
        "id": "SPB3F_gmQHGg"
      },
      "execution_count": 40,
      "outputs": []
    },
    {
      "cell_type": "code",
      "source": [
        "root='/content/drive/MyDrive/'"
      ],
      "metadata": {
        "id": "Rk0HjVqTHuT4"
      },
      "execution_count": null,
      "outputs": []
    },
    {
      "cell_type": "code",
      "source": [
        "%cd /content/drive/MyDrive/"
      ],
      "metadata": {
        "colab": {
          "base_uri": "https://localhost:8080/"
        },
        "id": "Rzj4-HO8Q5_z",
        "outputId": "afa83148-8017-44d6-c128-f1986888c299"
      },
      "execution_count": null,
      "outputs": [
        {
          "output_type": "stream",
          "name": "stdout",
          "text": [
            "/content/drive/MyDrive\n"
          ]
        }
      ]
    },
    {
      "cell_type": "code",
      "source": [
        "path='/content/drive/MyDrive/aialone_car/'\n"
      ],
      "metadata": {
        "id": "tVppoC5ASI7y"
      },
      "execution_count": null,
      "outputs": []
    },
    {
      "cell_type": "code",
      "source": [
        "def mk_f_list(path,output_name):\n",
        "  txt_file=open(output_name,'w')\n",
        "  for file in tqdm(os.listdir(path+'images/')):\n",
        "    train_path=path+'images/'\n",
        "    label_path=path+'labels/'\n",
        "    if os.path.splitext(file)[1]=='.png':\n",
        "      labelfile = file.replace('.png','.txt')\n",
        "      txt_file.write(train_path+file+'\\n')\n",
        "      txt_file.write(label_path+labelfile+'\\n')\n",
        "  txt_file.close()\n"
      ],
      "metadata": {
        "id": "E7-OY4f17Iow"
      },
      "execution_count": 42,
      "outputs": []
    },
    {
      "cell_type": "code",
      "source": [
        "mk_f_list('/content/drive/MyDrive/aialone_car/val/','val_list1.txt')"
      ],
      "metadata": {
        "id": "5nlwR5Onsbgy",
        "colab": {
          "base_uri": "https://localhost:8080/"
        },
        "outputId": "5f2325e2-18c8-4b9d-cdb1-db194f59566f"
      },
      "execution_count": 44,
      "outputs": [
        {
          "output_type": "stream",
          "name": "stderr",
          "text": [
            "100%|██████████| 1294/1294 [00:00<00:00, 168878.88it/s]\n"
          ]
        }
      ]
    },
    {
      "cell_type": "code",
      "source": [
        "mk_f_list('/content/drive/MyDrive/cutout_random/val/','val_list2.txt')"
      ],
      "metadata": {
        "colab": {
          "base_uri": "https://localhost:8080/"
        },
        "id": "oPSF6Cl4gJIs",
        "outputId": "f5dd025a-483c-437d-ec87-af3608841150"
      },
      "execution_count": 45,
      "outputs": [
        {
          "output_type": "stream",
          "name": "stderr",
          "text": [
            "100%|██████████| 3882/3882 [00:00<00:00, 289684.35it/s]\n"
          ]
        }
      ]
    }
  ]
}