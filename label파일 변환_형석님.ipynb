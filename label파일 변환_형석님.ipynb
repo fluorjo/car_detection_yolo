{
 "cells": [
  {
   "attachments": {},
   "cell_type": "markdown",
   "metadata": {},
   "source": [
    "https://naloblog.tistory.com/469"
   ]
  },
  {
   "cell_type": "code",
   "execution_count": 69,
   "metadata": {},
   "outputs": [
    {
     "name": "stdout",
     "output_type": "stream",
     "text": [
      "['9.0 1037 209 1312 209 1312 448 1037 448\\n', '25.0 804 425 1127 425 1127 783 804 783\\n', '12.0 330 250 583 250 583 511 330 511\\n']\n"
     ]
    }
   ],
   "source": [
    "#레이블 텍스트 파일 하나 참고용으로 불러옴.\n",
    "#리스트 안에 각 객체의 레이블과 좌표 값이 하나씩 들어감.\n",
    "with open(\"./label.txt\", \"r\") as f:\n",
    "    lines = f.readlines()\n",
    "print(lines)"
   ]
  },
  {
   "cell_type": "code",
   "execution_count": 70,
   "metadata": {},
   "outputs": [],
   "source": [
    "#레이블 번호에 있는 .0과 각 좌표의 마지막에 있는 \\n 삭제\n",
    "def delete_0n(obj_list):\n",
    "    for i in range(len(obj_list)):\n",
    "        obj_list[i]=obj_list[i].replace(\"\\n\", \"\")\n",
    "        obj_list[i]=obj_list[i].replace(\".0\", \"\")\n",
    "        #split으로 각 값들 구분해줌. 이렇게 하면 리스트 안에 또 리스트가 생김.\n",
    "        obj_list[i]=obj_list[i].split(' ')\n",
    "        #str을 int로.\n",
    "        for n in range(len(obj_list[i])):\n",
    "            obj_list[i][n]=int(obj_list[i][n])\n",
    "    return(obj_list)"
   ]
  },
  {
   "cell_type": "code",
   "execution_count": 71,
   "metadata": {},
   "outputs": [],
   "source": [
    "#주어진 좌표를 욜로에 맞게 박스의 x/y중앙값 및 박스 가로/세로 길이로 변형.\n",
    "#모든 값들은 이미지의 가로/세로 크기로 정규화돼야 함. 데이터들 크기가 1920/1040으로 일정함. 따라서 그 값으로 나눠줬음.\n",
    "\n",
    "def trans(obj_list):\n",
    "    for i in range(len(obj_list)):\n",
    "        #박스의 x,y축 중앙값:x,y좌표를 더한 뒤 2로 나누고 정규화. \n",
    "        middle_x=((obj_list[i][1]+obj_list[i][3])/2)/1920\n",
    "        middle_y=((obj_list[i][2]+obj_list[i][8])/2)/1040\n",
    "        #박스 가로 세로 길이 구하기 위해 xy 좌표의 큰 값에서 작은 값 뺌.\n",
    "        width=(obj_list[i][3]-obj_list[i][1])/1920\n",
    "        height=(obj_list[i][8]-obj_list[i][2])/1040\n",
    "        \n",
    "        #기존 값들을 위 변환한 값들로 대체. \n",
    "        obj_list[i][1]=middle_x\n",
    "        obj_list[i][2]=middle_y\n",
    "        obj_list[i][3]=width\n",
    "        obj_list[i][4]=height\n",
    "        \n",
    "        #리스트에서 6번째 값부터는 필요 없어서 삭제.\n",
    "        del obj_list[i][5:]\n",
    "    return(obj_list)       "
   ]
  },
  {
   "cell_type": "code",
   "execution_count": 73,
   "metadata": {},
   "outputs": [],
   "source": [
    "#리스트를 다시 str로 만들고 값들 구분(띄어쓰기)과 줄 바꿈도 해줌. \n",
    "#이렇게 해야 yolo가 제대로 인식할 거 같았습니다.\n",
    "def listToString(obj_list):\n",
    "    result = \"\"\n",
    "    for o in obj_list:\n",
    "        for idx, n in enumerate(o):\n",
    "            if idx ==4:\n",
    "                result += str(n) + \"\\n\"\n",
    "            else:\n",
    "                result += str(n) + \" \"\n",
    "    return result.strip()"
   ]
  },
  {
   "cell_type": "code",
   "execution_count": 85,
   "metadata": {},
   "outputs": [
    {
     "name": "stdout",
     "output_type": "stream",
     "text": [
      "['9.0 1037 209 1312 209 1312 448 1037 448\\n', '25.0 804 425 1127 425 1127 783 804 783\\n', '12.0 330 250 583 250 583 511 330 511\\n']\n"
     ]
    }
   ],
   "source": [
    "#테스트\n",
    "with open(\"./label.txt\", \"r\") as f:\n",
    "    lines = f.readlines()\n",
    "print(lines)"
   ]
  },
  {
   "cell_type": "code",
   "execution_count": 86,
   "metadata": {},
   "outputs": [],
   "source": [
    "#테스트\n",
    "delete_0n(lines)\n",
    "trans(lines)\n",
    "with open(\"./label3.txt\", \"w\") as f:\n",
    "    f.write(listToString(lines))\n"
   ]
  },
  {
   "cell_type": "code",
   "execution_count": 95,
   "metadata": {},
   "outputs": [],
   "source": [
    "#테스트\n",
    "with open(\"./label_test.txt\", \"r\") as f:\n",
    "    lines = f.readlines()\n",
    "    delete_0n(lines)\n",
    "    trans(lines)\n",
    "with open(\"./label_test.txt\", \"w\") as f:\n",
    "    f.write(listToString(lines))    "
   ]
  },
  {
   "cell_type": "code",
   "execution_count": 98,
   "metadata": {},
   "outputs": [
    {
     "data": {
      "text/plain": [
       "6481"
      ]
     },
     "execution_count": 98,
     "metadata": {},
     "output_type": "execute_result"
    }
   ],
   "source": [
    "#labels에서 텍스트 파일 리스트 불러오기.\n",
    "#폴더 경로는 상황에 맞게 설정해 줘야 합니다. \n",
    "import os \n",
    "folder_path='./labels/'\n",
    "file_list=os.listdir(folder_path)\n",
    "len(file_list)"
   ]
  },
  {
   "cell_type": "code",
   "execution_count": 100,
   "metadata": {},
   "outputs": [
    {
     "name": "stdout",
     "output_type": "stream",
     "text": [
      "['9.0 1037 209 1312 209 1312 448 1037 448\\n', '25.0 804 425 1127 425 1127 783 804 783\\n', '12.0 330 250 583 250 583 511 330 511\\n']\n"
     ]
    }
   ],
   "source": [
    "#제대로 불러왔는지 확인.\n",
    "with open(folder_path+file_list[0], \"r\") as f:\n",
    "    obj_list = f.readlines()\n",
    "print(obj_list)"
   ]
  },
  {
   "cell_type": "code",
   "execution_count": 103,
   "metadata": {},
   "outputs": [
    {
     "name": "stderr",
     "output_type": "stream",
     "text": [
      "100%|██████████| 6481/6481 [00:05<00:00, 1275.29it/s]\n"
     ]
    }
   ],
   "source": [
    "#각 텍스트 파일 불러와서 작업해줌.\n",
    "#'r'모드로 내용을 불러온 다음, 변환해주고 'w'모드로 전환 후 listToString으로 str로 바꾼 걸 덮어씌워 적어줬습니다. \n",
    "from tqdm import tqdm\n",
    "\n",
    "for i in tqdm(range(len(file_list))):\n",
    "    with open(folder_path+file_list[i], \"r\") as f:\n",
    "        obj_list = f.readlines()\n",
    "        delete_0n(obj_list)\n",
    "        trans(obj_list)    \n",
    "    with open(folder_path+file_list[i], \"w\") as f:\n",
    "        f.write(listToString(lines))            "
   ]
  }
 ],
 "metadata": {
  "kernelspec": {
   "display_name": "Python 3",
   "language": "python",
   "name": "python3"
  },
  "language_info": {
   "codemirror_mode": {
    "name": "ipython",
    "version": 3
   },
   "file_extension": ".py",
   "mimetype": "text/x-python",
   "name": "python",
   "nbconvert_exporter": "python",
   "pygments_lexer": "ipython3",
   "version": "3.11.0"
  },
  "orig_nbformat": 4
 },
 "nbformat": 4,
 "nbformat_minor": 2
}
