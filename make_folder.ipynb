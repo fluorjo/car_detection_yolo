{
 "cells": [
  {
   "cell_type": "code",
   "execution_count": null,
   "metadata": {},
   "outputs": [],
   "source": [
    "import os\n",
    "import glob\n",
    "import shutil\n"
   ]
  },
  {
   "cell_type": "code",
   "execution_count": 1,
   "metadata": {},
   "outputs": [
    {
     "ename": "NameError",
     "evalue": "name 'os' is not defined",
     "output_type": "error",
     "traceback": [
      "\u001b[1;31m---------------------------------------------------------------------------\u001b[0m",
      "\u001b[1;31mNameError\u001b[0m                                 Traceback (most recent call last)",
      "Cell \u001b[1;32mIn[1], line 1\u001b[0m\n\u001b[1;32m----> 1\u001b[0m os\u001b[39m.\u001b[39mmkdir(data_folder_path\u001b[39m+\u001b[39m\u001b[39m'\u001b[39m\u001b[39m/val\u001b[39m\u001b[39m'\u001b[39m)\n",
      "\u001b[1;31mNameError\u001b[0m: name 'os' is not defined"
     ]
    }
   ],
   "source": [
    "os.mkdir(data_folder_path+'/val')"
   ]
  },
  {
   "cell_type": "code",
   "execution_count": null,
   "metadata": {},
   "outputs": [],
   "source": [
    "folder_path='/content/drive/MyDrive/aialone_car/train'\n",
    "file_list=os.listdir(folder_path)\n",
    "file_count=len(file_list)"
   ]
  },
  {
   "cell_type": "code",
   "execution_count": null,
   "metadata": {},
   "outputs": [],
   "source": [
    "src='/content/drive/MyDrive/aialone_car/train/'\n",
    "dest='/content/drive/MyDrive/aialone_car/val/'\n",
    "for i in range(2588):\n",
    "  shutil.move(src+file_list[i],dest)\n"
   ]
  },
  {
   "cell_type": "code",
   "execution_count": null,
   "metadata": {},
   "outputs": [],
   "source": [
    "train_folder_path='/content/drive/MyDrive/aialone_car/train'\n",
    "\n",
    "os.mkdir(train_folder_path+\"/labels\")\n",
    "os.mkdir(train_folder_path+\"/images\")\n",
    "\n",
    "train_file_list=os.listdir(train_folder_path)\n",
    "\n",
    "train_labels=glob.iglob(os.path.join(train_folder_path, \"*.txt\"))\n",
    "\n",
    "for f in train_labels:\n",
    "  shutil.move(f,train_folder_path+\"/labels\")\n",
    "\n",
    "\n",
    "train_file_list=os.listdir(train_folder_path)\n",
    "\n",
    "train_images=glob.iglob(os.path.join(train_folder_path, \"*.png\"))\n",
    "\n",
    "for f in train_images:\n",
    "  shutil.move(f,train_folder_path+\"/images\")\n",
    "\n"
   ]
  },
  {
   "cell_type": "code",
   "execution_count": null,
   "metadata": {},
   "outputs": [],
   "source": [
    "\n",
    "val_folder_path='/content/drive/MyDrive/aialone_car/val'\n",
    "\n",
    "os.mkdir(val_folder_path+\"/labels\")\n",
    "os.mkdir(val_folder_path+\"/images\")\n",
    "\n",
    "val_file_list=os.listdir(val_folder_path)\n",
    "\n",
    "val_labels=glob.iglob(os.path.join(val_folder_path, \"*.txt\"))\n",
    "\n",
    "for f in val_labels:\n",
    "  shutil.move(f,val_folder_path+\"/labels\")\n",
    "\n",
    "\n",
    "val_file_list=os.listdir(val_folder_path)\n",
    "\n",
    "val_images=glob.iglob(os.path.join(val_folder_path, \"*.png\"))\n",
    "\n",
    "for f in val_images:\n",
    "  shutil.move(f,val_folder_path+\"/images\")\n"
   ]
  }
 ],
 "metadata": {
  "kernelspec": {
   "display_name": "Python 3",
   "language": "python",
   "name": "python3"
  },
  "language_info": {
   "codemirror_mode": {
    "name": "ipython",
    "version": 3
   },
   "file_extension": ".py",
   "mimetype": "text/x-python",
   "name": "python",
   "nbconvert_exporter": "python",
   "pygments_lexer": "ipython3",
   "version": "3.11.0"
  },
  "orig_nbformat": 4
 },
 "nbformat": 4,
 "nbformat_minor": 2
}
