{
 "cells": [
  {
   "attachments": {},
   "cell_type": "markdown",
   "metadata": {},
   "source": [
    "https://github.com/uoguelph-mlrg/Cutout"
   ]
  },
  {
   "attachments": {},
   "cell_type": "markdown",
   "metadata": {},
   "source": [
    "https://arxiv.org/abs/1708.04552"
   ]
  },
  {
   "attachments": {},
   "cell_type": "markdown",
   "metadata": {},
   "source": [
    "https://hoya012.github.io/blog/Improved-Regularization-of-Convolutional-Neural-Networks-with-Cutout-Review/ "
   ]
  },
  {
   "cell_type": "code",
   "execution_count": null,
   "metadata": {},
   "outputs": [],
   "source": [
    "def cutout(images, cut_length):\n",
    "    \"\"\"\n",
    "    Perform cutout augmentation from images.\n",
    "    :param images: np.ndarray, shape: (N, H, W, C).\n",
    "    :param cut_length: int, the length of cut(box).\n",
    "    :return: np.ndarray, shape: (N, h, w, C).\n",
    "    \"\"\"\n",
    "\n",
    "    H, W, C = images.shape[1:4]\n",
    "    augmented_images = []\n",
    "    for image in images:    # image.shape: (H, W, C)\n",
    "        image_mean = image.mean(keepdims=True)\n",
    "        image -= image_mean\n",
    "\n",
    "        mask = np.ones((H, W, C), np.float32)\n",
    "\n",
    "        y = np.random.randint(H)\n",
    "        x = np.random.randint(W)\n",
    "        length = cut_length\n",
    "\n",
    "        y1 = np.clip(y - (length // 2), 0, H)\n",
    "        y2 = np.clip(y + (length // 2), 0, H)\n",
    "        x1 = np.clip(x - (length // 2), 0, W)\n",
    "        x2 = np.clip(x + (length // 2), 0, W)\n",
    "\n",
    "        mask[y1: y2, x1: x2] = 0.\n",
    "        image = image * mask\n",
    "\n",
    "        image += image_mean\n",
    "        augmented_images.append(image)\n",
    "\n",
    "    return np.stack(augmented_images)    # shape: (N, h, w, C)"
   ]
  }
 ],
 "metadata": {
  "language_info": {
   "name": "python"
  },
  "orig_nbformat": 4
 },
 "nbformat": 4,
 "nbformat_minor": 2
}
