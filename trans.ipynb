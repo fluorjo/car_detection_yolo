{
 "cells": [
  {
   "cell_type": "code",
   "execution_count": 1,
   "metadata": {},
   "outputs": [
    {
     "data": {
      "text/plain": [
       "'c:\\\\Users\\\\fluor\\\\c\\\\car_detection_yolo'"
      ]
     },
     "execution_count": 1,
     "metadata": {},
     "output_type": "execute_result"
    }
   ],
   "source": [
    "%pwd"
   ]
  },
  {
   "attachments": {},
   "cell_type": "markdown",
   "metadata": {},
   "source": [
    "https://naloblog.tistory.com/469"
   ]
  },
  {
   "cell_type": "code",
   "execution_count": 69,
   "metadata": {},
   "outputs": [
    {
     "name": "stdout",
     "output_type": "stream",
     "text": [
      "['9.0 1037 209 1312 209 1312 448 1037 448\\n', '25.0 804 425 1127 425 1127 783 804 783\\n', '12.0 330 250 583 250 583 511 330 511\\n']\n"
     ]
    }
   ],
   "source": [
    "with open(\"./label.txt\", \"r\") as f:\n",
    "    lines = f.readlines()\n",
    "print(lines)"
   ]
  },
  {
   "cell_type": "code",
   "execution_count": 70,
   "metadata": {},
   "outputs": [],
   "source": [
    "#\\n과 .0 삭제\n",
    "def delete_0n(obj_list):\n",
    "    for i in range(len(obj_list)):\n",
    "        obj_list[i]=obj_list[i].replace(\"\\n\", \"\")\n",
    "        obj_list[i]=obj_list[i].replace(\".0\", \"\")\n",
    "        obj_list[i]=obj_list[i].split(' ')\n",
    "        for n in range(len(obj_list[i])):\n",
    "            obj_list[i][n]=int(obj_list[i][n])\n",
    "    return(obj_list)"
   ]
  },
  {
   "cell_type": "code",
   "execution_count": 71,
   "metadata": {},
   "outputs": [],
   "source": [
    "def trans(obj_list):\n",
    "    for i in range(len(obj_list)):\n",
    "        middle_x=((obj_list[i][1]+obj_list[i][3])/2)/1920\n",
    "        middle_y=((obj_list[i][2]+obj_list[i][8])/2)/1040\n",
    "        width=(obj_list[i][3]-obj_list[i][1])/1920\n",
    "        height=(obj_list[i][8]-obj_list[i][2])/1040\n",
    "        \n",
    "        obj_list[i][1]=middle_x\n",
    "        obj_list[i][2]=middle_y\n",
    "        obj_list[i][3]=width\n",
    "        obj_list[i][4]=height\n",
    "        del obj_list[i][5:]\n",
    "    return(obj_list)       "
   ]
  },
  {
   "cell_type": "code",
   "execution_count": 73,
   "metadata": {},
   "outputs": [],
   "source": [
    "def listToString(obj_list):\n",
    "    result = \"\"\n",
    "    for o in obj_list:\n",
    "        for idx, n in enumerate(o):\n",
    "            if idx ==4:\n",
    "                result += str(n) + \"\\n\"\n",
    "            else:\n",
    "                result += str(n) + \" \"\n",
    "    return result.strip()"
   ]
  },
  {
   "cell_type": "code",
   "execution_count": 85,
   "metadata": {},
   "outputs": [
    {
     "name": "stdout",
     "output_type": "stream",
     "text": [
      "['9.0 1037 209 1312 209 1312 448 1037 448\\n', '25.0 804 425 1127 425 1127 783 804 783\\n', '12.0 330 250 583 250 583 511 330 511\\n']\n"
     ]
    }
   ],
   "source": [
    "#테스트\n",
    "with open(\"./label.txt\", \"r\") as f:\n",
    "    lines = f.readlines()\n",
    "print(lines)"
   ]
  },
  {
   "cell_type": "code",
   "execution_count": 86,
   "metadata": {},
   "outputs": [],
   "source": [
    "#테스트\n",
    "delete_0n(lines)\n",
    "trans(lines)\n",
    "with open(\"./label3.txt\", \"w\") as f:\n",
    "    f.write(listToString(lines))\n"
   ]
  },
  {
   "cell_type": "code",
   "execution_count": 95,
   "metadata": {},
   "outputs": [],
   "source": [
    "#테스트\n",
    "with open(\"./label_test.txt\", \"r\") as f:\n",
    "    lines = f.readlines()\n",
    "    delete_0n(lines)\n",
    "    trans(lines)\n",
    "with open(\"./label_test.txt\", \"w\") as f:\n",
    "    f.write(listToString(lines))    "
   ]
  },
  {
   "cell_type": "code",
   "execution_count": 98,
   "metadata": {},
   "outputs": [
    {
     "data": {
      "text/plain": [
       "6481"
      ]
     },
     "execution_count": 98,
     "metadata": {},
     "output_type": "execute_result"
    }
   ],
   "source": [
    "import os \n",
    "folder_path='./labels/'\n",
    "file_list=os.listdir(folder_path)\n",
    "len(file_list)"
   ]
  },
  {
   "cell_type": "code",
   "execution_count": 100,
   "metadata": {},
   "outputs": [
    {
     "name": "stdout",
     "output_type": "stream",
     "text": [
      "['9.0 1037 209 1312 209 1312 448 1037 448\\n', '25.0 804 425 1127 425 1127 783 804 783\\n', '12.0 330 250 583 250 583 511 330 511\\n']\n"
     ]
    }
   ],
   "source": [
    "with open(folder_path+file_list[0], \"r\") as f:\n",
    "    obj_list = f.readlines()\n",
    "print(obj_list)"
   ]
  },
  {
   "cell_type": "code",
   "execution_count": 103,
   "metadata": {},
   "outputs": [
    {
     "name": "stderr",
     "output_type": "stream",
     "text": [
      "100%|██████████| 6481/6481 [00:05<00:00, 1275.29it/s]\n"
     ]
    }
   ],
   "source": [
    "from tqdm import tqdm\n",
    "\n",
    "for i in tqdm(range(len(file_list))):\n",
    "    with open(folder_path+file_list[i], \"r\") as f:\n",
    "        obj_list = f.readlines()\n",
    "        delete_0n(obj_list)\n",
    "        trans(obj_list)    \n",
    "    with open(folder_path+file_list[i], \"w\") as f:\n",
    "        f.write(listToString(lines))            "
   ]
  }
 ],
 "metadata": {
  "kernelspec": {
   "display_name": "Python 3",
   "language": "python",
   "name": "python3"
  },
  "language_info": {
   "codemirror_mode": {
    "name": "ipython",
    "version": 3
   },
   "file_extension": ".py",
   "mimetype": "text/x-python",
   "name": "python",
   "nbconvert_exporter": "python",
   "pygments_lexer": "ipython3",
   "version": "3.11.0"
  },
  "orig_nbformat": 4
 },
 "nbformat": 4,
 "nbformat_minor": 2
}
