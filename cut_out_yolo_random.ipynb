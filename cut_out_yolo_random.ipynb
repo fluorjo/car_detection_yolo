{
  "cells": [
    {
      "cell_type": "markdown",
      "source": [
        "https://developeryoung.tistory.com/6"
      ],
      "metadata": {
        "id": "jplMwq_O-BMr"
      }
    },
    {
      "cell_type": "code",
      "source": [
        "from google.colab import drive\n",
        "drive.mount('/content/drive')"
      ],
      "metadata": {
        "colab": {
          "base_uri": "https://localhost:8080/"
        },
        "id": "F1u-DyjW7R_k",
        "outputId": "19487821-6aee-4a43-c51f-5d51f5e096b3"
      },
      "execution_count": 11,
      "outputs": [
        {
          "output_type": "stream",
          "name": "stdout",
          "text": [
            "Drive already mounted at /content/drive; to attempt to forcibly remount, call drive.mount(\"/content/drive\", force_remount=True).\n"
          ]
        }
      ]
    },
    {
      "cell_type": "code",
      "source": [
        "#d1_train_cutout  생성 (O)\n",
        "#d1_val_cutout 생성 (o)\n",
        "\n",
        "#d3_train_cutout (o)\n",
        "#d3_val_cutout\n",
        "import numpy as np\n",
        "from os import listdir\n",
        "from random import *\n",
        "import  cv2\n",
        "from google.colab.patches import cv2_imshow"
      ],
      "metadata": {
        "id": "yzn3DajZ6HLR"
      },
      "execution_count": 36,
      "outputs": []
    },
    {
      "cell_type": "code",
      "source": [
        "#d1_images cutout 하기 \n",
        "path ='/content/drive/MyDrive/car_detection/test/before_aug/d3/images/'  #cutout을 추가하고 싶은 이미지가 있는 경로 "
      ],
      "metadata": {
        "id": "knWP2xu67G8X"
      },
      "execution_count": 37,
      "outputs": []
    },
    {
      "cell_type": "code",
      "source": [
        "for file in listdir(path): #경로에 있는 파일 하나하나 \n",
        "  cutout = cv2.imread(path+file) #사진 파일 1개 (cutout을 추가하고 싶은 원본사진)\n",
        "  labelfile = file.replace('.png','.txt') \n",
        "  #그 원본사진의 boundingbox 정보가 있는 label file명(저는 사진과 파일명을 똑같이 했기 때문에 jpg->txt 교체만 해줬습니다) \n",
        "  print(labelfile)\n",
        "  label = open('/content/drive/MyDrive/car_detection/test/before_aug/d3/labels/'+labelfile,'r') #label file을 open해서 읽는다 \n",
        "  list=label.readline() #label 첫 줄 읽기 \n",
        "  for i in range(3):#저는 cutout 이미지를 3개 만들고 싶어서 for문을 3번 실행시켰습니다.\n",
        "    f = open('/content/drive/MyDrive/car_detection/test/after_aug_label/'+'cutout'+str(i)+'__'+labelfile,\"w\") # 새로운 라벨파일 저장 (사진 1장당 1개 - 이름 맞춰서 )\n",
        "    while(list):#바운딩 박스 당 \n",
        "      #print(str(i) +list)\n",
        "      f.write(list) #바운딩 박스 정보를 새로운 라벨 파일에 적는다. \n",
        "      #print(list)\n",
        "      list=list.split()\n",
        "      x_center=float(list[1])\n",
        "      y_center=float(list[2])\n",
        "      height=float(list[4])*1040\n",
        "      width=float(list[3])*1920\n",
        "      x_center_new=x_center*1920\n",
        "      y_center_new=y_center*1040\n",
        "       #print(x_center_new,y_center_new)\n",
        "      x1=uniform(x_center_new-width/2,x_center_new+width/4) \n",
        "      y1=uniform(y_center_new-height/2,y_center_new+height/4)\n",
        "      mark=width/2\n",
        "      x2=x1+mark\n",
        "      y2=y1+mark\n",
        "      x1=int(x1)\n",
        "      x2=int(x2)\n",
        "      y1=int(y1)\n",
        "      y2=int(y2)\n",
        "     #print(x1,\" \",y1,\" \",x2,\" \",y2)       \n",
        "      cutout = cv2.rectangle(cutout, (x1, y1), (x2,y2), (0, 0, 0), cv2.FILLED)  #원래 있던 사진  + 박스추가 + 박스추가 ..\n",
        "      list=label.readline() #다음 바운딩 박스를 위해 다음 줄을  읽는다.  \n",
        "    f.close()\n",
        "    #cv2_imshow(cutout)\n",
        "    label = open('/content/drive/MyDrive/car_detection/test/before_aug/d3/labels/'+labelfile,'r')\n",
        "    list=label.readline()\n",
        "    cv2.imwrite('/content/drive/MyDrive/car_detection/test/'+'cutout'+str(i)+'__'+file,cutout)\n",
        "    cutout = cv2.imread(path+file)\n",
        "    #라벨 복사 \n",
        "   "
      ],
      "metadata": {
        "colab": {
          "base_uri": "https://localhost:8080/"
        },
        "id": "N1ztqGWYZ2Pu",
        "outputId": "7afe0dc2-1bc5-43a3-e1b2-2a5d470096e0"
      },
      "execution_count": 39,
      "outputs": [
        {
          "output_type": "stream",
          "name": "stdout",
          "text": [
            "syn_00000.txt\n",
            "syn_00003.txt\n",
            "syn_00002.txt\n",
            "syn_00001.txt\n"
          ]
        }
      ]
    }
  ],
  "metadata": {
    "kernelspec": {
      "display_name": "Python 3",
      "language": "python",
      "name": "python3"
    },
    "language_info": {
      "codemirror_mode": {
        "name": "ipython",
        "version": 3
      },
      "file_extension": ".py",
      "mimetype": "text/x-python",
      "name": "python",
      "nbconvert_exporter": "python",
      "pygments_lexer": "ipython3",
      "version": "3.11.0"
    },
    "orig_nbformat": 4,
    "colab": {
      "provenance": []
    }
  },
  "nbformat": 4,
  "nbformat_minor": 0
}