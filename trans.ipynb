{
 "cells": [
  {
   "cell_type": "code",
   "execution_count": 1,
   "metadata": {},
   "outputs": [
    {
     "data": {
      "text/plain": [
       "'c:\\\\Users\\\\fluor\\\\c\\\\car_detection_yolo'"
      ]
     },
     "execution_count": 1,
     "metadata": {},
     "output_type": "execute_result"
    }
   ],
   "source": [
    "%pwd"
   ]
  },
  {
   "attachments": {},
   "cell_type": "markdown",
   "metadata": {},
   "source": [
    "https://naloblog.tistory.com/469"
   ]
  },
  {
   "cell_type": "code",
   "execution_count": 25,
   "metadata": {},
   "outputs": [
    {
     "name": "stdout",
     "output_type": "stream",
     "text": [
      "['9.0 1037 209 1312 209 1312 448 1037 448\\n', '25.0 804 425 1127 425 1127 783 804 783\\n', '12.0 330 250 583 250 583 511 330 511\\n']\n"
     ]
    }
   ],
   "source": [
    "with open(\"./label.txt\", \"r\") as f:\n",
    "    lines = f.readlines()\n",
    "print(lines)"
   ]
  },
  {
   "cell_type": "code",
   "execution_count": 26,
   "metadata": {},
   "outputs": [
    {
     "name": "stdout",
     "output_type": "stream",
     "text": [
      "[[9, 1037, 209, 1312, 209, 1312, 448, 1037, 448], [25, 804, 425, 1127, 425, 1127, 783, 804, 783], [12, 330, 250, 583, 250, 583, 511, 330, 511]]\n"
     ]
    }
   ],
   "source": [
    "\n",
    "#줄바꿈 삭제\n",
    "for i in range(len(lines)):\n",
    "    lines[i]=lines[i].replace(\"\\n\", \"\")\n",
    "    lines[i]=lines[i].replace(\".0\", \"\")\n",
    "    lines[i]=lines[i].split(' ')\n",
    "    for n in range(len(lines[i])):\n",
    "        lines[i][n]=int(lines[i][n])\n",
    "\n",
    "print(lines)"
   ]
  },
  {
   "cell_type": "code",
   "execution_count": 34,
   "metadata": {},
   "outputs": [
    {
     "ename": "IndexError",
     "evalue": "list index out of range",
     "output_type": "error",
     "traceback": [
      "\u001b[1;31m---------------------------------------------------------------------------\u001b[0m",
      "\u001b[1;31mIndexError\u001b[0m                                Traceback (most recent call last)",
      "Cell \u001b[1;32mIn[34], line 3\u001b[0m\n\u001b[0;32m      1\u001b[0m \u001b[39mfor\u001b[39;00m i \u001b[39min\u001b[39;00m \u001b[39mrange\u001b[39m(\u001b[39mlen\u001b[39m(lines)):\n\u001b[0;32m      2\u001b[0m     middle_x\u001b[39m=\u001b[39m((lines[i][\u001b[39m1\u001b[39m]\u001b[39m+\u001b[39mlines[i][\u001b[39m3\u001b[39m])\u001b[39m/\u001b[39m\u001b[39m2\u001b[39m)\u001b[39m/\u001b[39m\u001b[39m1920\u001b[39m\n\u001b[1;32m----> 3\u001b[0m     middle_y\u001b[39m=\u001b[39m((lines[i][\u001b[39m2\u001b[39m]\u001b[39m+\u001b[39mlines[i][\u001b[39m8\u001b[39;49m])\u001b[39m/\u001b[39m\u001b[39m2\u001b[39m)\u001b[39m/\u001b[39m\u001b[39m1040\u001b[39m\n\u001b[0;32m      4\u001b[0m     width\u001b[39m=\u001b[39m(lines[i][\u001b[39m3\u001b[39m]\u001b[39m-\u001b[39mlines[i][\u001b[39m1\u001b[39m])\u001b[39m/\u001b[39m\u001b[39m1920\u001b[39m\n\u001b[0;32m      5\u001b[0m     height\u001b[39m=\u001b[39m(lines[i][\u001b[39m8\u001b[39m]\u001b[39m-\u001b[39mlines[i][\u001b[39m2\u001b[39m])\u001b[39m/\u001b[39m\u001b[39m1040\u001b[39m\n",
      "\u001b[1;31mIndexError\u001b[0m: list index out of range"
     ]
    }
   ],
   "source": [
    "for i in range(len(lines)):\n",
    "    middle_x=((lines[i][1]+lines[i][3])/2)/1920\n",
    "    middle_y=((lines[i][2]+lines[i][8])/2)/1040\n",
    "    width=(lines[i][3]-lines[i][1])/1920\n",
    "    height=(lines[i][8]-lines[i][2])/1040\n",
    "    \n",
    "    lines[i][1]=middle_x\n",
    "    lines[i][2]=middle_y\n",
    "    lines[i][3]=width\n",
    "    lines[i][4]=height\n",
    "    del lines[i][5:]\n",
    "        \n",
    "print(lines)"
   ]
  },
  {
   "cell_type": "code",
   "execution_count": 35,
   "metadata": {},
   "outputs": [
    {
     "name": "stdout",
     "output_type": "stream",
     "text": [
      "0 9\n",
      "1 0.61171875\n",
      "2 0.3158653846153846\n",
      "3 0.14322916666666666\n",
      "4 0.2298076923076923\n",
      "0 25\n",
      "1 0.5028645833333333\n",
      "2 0.5807692307692308\n",
      "3 0.16822916666666668\n",
      "4 0.34423076923076923\n",
      "0 12\n",
      "1 0.23776041666666667\n",
      "2 0.3658653846153846\n",
      "3 0.13177083333333334\n",
      "4 0.25096153846153846\n"
     ]
    }
   ],
   "source": [
    "for o in lines:\n",
    "    for n, idx in enumerate(o):\n",
    "        print(n,idx)"
   ]
  },
  {
   "cell_type": "code",
   "execution_count": 38,
   "metadata": {},
   "outputs": [
    {
     "name": "stdout",
     "output_type": "stream",
     "text": [
      "9 0.61171875 0.3158653846153846 0.14322916666666666 0.2298076923076923\n",
      "25 0.5028645833333333 0.5807692307692308 0.16822916666666668 0.34423076923076923\n",
      "12 0.23776041666666667 0.3658653846153846 0.13177083333333334 0.25096153846153846\n"
     ]
    }
   ],
   "source": [
    "def listToString(obj_list):\n",
    "    result = \"\"\n",
    "    for o in obj_list:\n",
    "        for idx, n in enumerate(o):\n",
    "            if idx ==4:\n",
    "                result += str(n) + \"\\n\"\n",
    "            else:\n",
    "                result += str(n) + \" \"\n",
    "    return result.strip()\n",
    "\n",
    "result = listToString(lines)\n",
    "print(result)"
   ]
  },
  {
   "cell_type": "code",
   "execution_count": 39,
   "metadata": {},
   "outputs": [],
   "source": [
    "with open(\"./label2.txt\", \"a\") as f:\n",
    "    f.write(result)"
   ]
  },
  {
   "cell_type": "code",
   "execution_count": 51,
   "metadata": {},
   "outputs": [
    {
     "name": "stdout",
     "output_type": "stream",
     "text": [
      "[8]\n"
     ]
    }
   ],
   "source": [
    "tmp=[]\n",
    "tmp.append(8)\n",
    "\n",
    "print(tmp)"
   ]
  }
 ],
 "metadata": {
  "kernelspec": {
   "display_name": "Python 3",
   "language": "python",
   "name": "python3"
  },
  "language_info": {
   "codemirror_mode": {
    "name": "ipython",
    "version": 3
   },
   "file_extension": ".py",
   "mimetype": "text/x-python",
   "name": "python",
   "nbconvert_exporter": "python",
   "pygments_lexer": "ipython3",
   "version": "3.11.0"
  },
  "orig_nbformat": 4
 },
 "nbformat": 4,
 "nbformat_minor": 2
}
