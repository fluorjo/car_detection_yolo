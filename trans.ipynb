{
 "cells": [
  {
   "cell_type": "code",
   "execution_count": 1,
   "metadata": {},
   "outputs": [
    {
     "data": {
      "text/plain": [
       "'c:\\\\Users\\\\fluor\\\\c\\\\car_detection_yolo'"
      ]
     },
     "execution_count": 1,
     "metadata": {},
     "output_type": "execute_result"
    }
   ],
   "source": [
    "%pwd"
   ]
  },
  {
   "cell_type": "code",
   "execution_count": 22,
   "metadata": {},
   "outputs": [
    {
     "name": "stdout",
     "output_type": "stream",
     "text": [
      "['9.0 1037 209 1312 209 1312 448 1037 448\\n', '25.0 804 425 1127 425 1127 783 804 783\\n', '12.0 330 250 583 250 583 511 330 511\\n']\n",
      "9.0 1037 209 1312 209 1312 448 1037 448\n",
      "['9.0 1037 209 1312 209 1312 448 1037 448', '25.0 804 425 1127 425 1127 783 804 783\\n', '12.0 330 250 583 250 583 511 330 511\\n']\n"
     ]
    }
   ],
   "source": [
    "with open(\"./label.txt\", \"r\") as f:\n",
    "    lines = f.readlines()\n",
    "print(lines)\n",
    "#lines[0].split(' ')[8].replace(\"\\n\", \"\")\n",
    "lines[0]=lines[0].replace(\"\\n\", \"\")\n",
    "print(lines[0])\n",
    "print(lines)\n"
   ]
  }
 ],
 "metadata": {
  "kernelspec": {
   "display_name": "Python 3",
   "language": "python",
   "name": "python3"
  },
  "language_info": {
   "codemirror_mode": {
    "name": "ipython",
    "version": 3
   },
   "file_extension": ".py",
   "mimetype": "text/x-python",
   "name": "python",
   "nbconvert_exporter": "python",
   "pygments_lexer": "ipython3",
   "version": "3.11.0"
  },
  "orig_nbformat": 4
 },
 "nbformat": 4,
 "nbformat_minor": 2
}
